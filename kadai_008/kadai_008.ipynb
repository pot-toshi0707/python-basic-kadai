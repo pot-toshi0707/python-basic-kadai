{
  "nbformat": 4,
  "nbformat_minor": 0,
  "metadata": {
    "colab": {
      "provenance": []
    },
    "kernelspec": {
      "name": "python3",
      "display_name": "Python 3"
    },
    "language_info": {
      "name": "python"
    }
  },
  "cells": [
    {
      "cell_type": "code",
      "source": [
        "import random\n",
        "var = random.randint(1,100)\n",
        "\n",
        "print (var)\n",
        "\n",
        "if var % 3 == 0 and var % 5 == 0:\n",
        "  print (\"FizzBuzz\")\n",
        "elif var % 5 == 0:\n",
        "  print (\"Buzz\")\n",
        "elif var % 3 == 0:\n",
        "  print (\"Fizz\")\n",
        "else:\n",
        " print (f\"{var}\")"
      ],
      "metadata": {
        "colab": {
          "base_uri": "https://localhost:8080/"
        },
        "id": "LzX3zRTeRFOz",
        "outputId": "57fb8c86-4886-4e1c-fba8-64540d01a6d4"
      },
      "execution_count": 89,
      "outputs": [
        {
          "output_type": "stream",
          "name": "stdout",
          "text": [
            "58\n",
            "58\n"
          ]
        }
      ]
    },
    {
      "cell_type": "markdown",
      "source": [],
      "metadata": {
        "id": "iVBqSs6zQ74g"
      }
    }
  ]
}