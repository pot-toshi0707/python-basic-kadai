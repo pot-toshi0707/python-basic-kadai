{
  "nbformat": 4,
  "nbformat_minor": 0,
  "metadata": {
    "colab": {
      "provenance": []
    },
    "kernelspec": {
      "name": "python3",
      "display_name": "Python 3"
    },
    "language_info": {
      "name": "python"
    }
  },
  "cells": [
    {
      "cell_type": "code",
      "execution_count": 1,
      "metadata": {
        "colab": {
          "base_uri": "https://localhost:8080/"
        },
        "id": "xYHn7wVCG3CX",
        "outputId": "5e451ae9-9a98-45e1-9550-2924cb602d56"
      },
      "outputs": [
        {
          "output_type": "execute_result",
          "data": {
            "text/plain": [
              "121.0"
            ]
          },
          "metadata": {},
          "execution_count": 1
        }
      ],
      "source": [
        "def consumption_tax (price, tax_rate):\n",
        "  return price + ( price * (tax_rate / 100))\n",
        "\n",
        "consumption_tax(110, 10)"
      ]
    }
  ]
}