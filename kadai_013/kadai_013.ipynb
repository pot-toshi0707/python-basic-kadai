{
  "nbformat": 4,
  "nbformat_minor": 0,
  "metadata": {
    "colab": {
      "provenance": []
    },
    "kernelspec": {
      "name": "python3",
      "display_name": "Python 3"
    },
    "language_info": {
      "name": "python"
    }
  },
  "cells": [
    {
      "cell_type": "code",
      "execution_count": 3,
      "metadata": {
        "colab": {
          "base_uri": "https://localhost:8080/"
        },
        "id": "xYHn7wVCG3CX",
        "outputId": "58fa5e6d-0ac2-488d-ea98-a1c3796b113d"
      },
      "outputs": [
        {
          "output_type": "stream",
          "name": "stdout",
          "text": [
            "121.0\n"
          ]
        }
      ],
      "source": [
        "def consumption_tax (price, tax_rate):\n",
        "  return price + ( price * (tax_rate / 100))\n",
        "\n",
        "print(consumption_tax(110, 10))"
      ]
    }
  ]
}